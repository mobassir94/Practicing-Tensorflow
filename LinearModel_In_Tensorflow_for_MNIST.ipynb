{
  "nbformat": 4,
  "nbformat_minor": 0,
  "metadata": {
    "colab": {
      "name": "LinearModel_In_Tensorflow_for_MNIST.ipynb",
      "version": "0.3.2",
      "provenance": [],
      "collapsed_sections": [],
      "include_colab_link": true
    },
    "kernelspec": {
      "name": "python3",
      "display_name": "Python 3"
    },
    "accelerator": "GPU"
  },
  "cells": [
    {
      "cell_type": "markdown",
      "metadata": {
        "id": "view-in-github",
        "colab_type": "text"
      },
      "source": [
        "<a href=\"https://colab.research.google.com/github/mobassir94/Practicing-Tensorflow/blob/master/LinearModel_In_Tensorflow_for_MNIST.ipynb\" target=\"_parent\"><img src=\"https://colab.research.google.com/assets/colab-badge.svg\" alt=\"Open In Colab\"/></a>"
      ]
    },
    {
      "metadata": {
        "id": "0_u6zJPKTSud",
        "colab_type": "text"
      },
      "cell_type": "markdown",
      "source": [
        "**Importing the Dependencies**"
      ]
    },
    {
      "metadata": {
        "id": "oA6JKt_l93cS",
        "colab_type": "code",
        "colab": {}
      },
      "cell_type": "code",
      "source": [
        "%matplotlib inline\n",
        "\n",
        "import tensorflow as tf\n",
        "import matplotlib.pyplot as plt\n",
        "import numpy as np\n",
        "\n",
        "from sklearn.metrics import confusion_matrix"
      ],
      "execution_count": 0,
      "outputs": []
    },
    {
      "metadata": {
        "id": "Qxi48wxITgZ6",
        "colab_type": "text"
      },
      "cell_type": "markdown",
      "source": [
        "**Loading MNIST handwritten digit dataset**"
      ]
    },
    {
      "metadata": {
        "id": "GNTkcSrmTkxj",
        "colab_type": "code",
        "outputId": "1fb862ae-8512-43f4-a625-ae83a32ac10b",
        "colab": {
          "base_uri": "https://localhost:8080/",
          "height": 90
        }
      },
      "cell_type": "code",
      "source": [
        "from tensorflow.examples.tutorials.mnist import input_data\n",
        "\n",
        "data = input_data.read_data_sets(\"data/MNIST\", one_hot = True)"
      ],
      "execution_count": 154,
      "outputs": [
        {
          "output_type": "stream",
          "text": [
            "Extracting data/MNIST/train-images-idx3-ubyte.gz\n",
            "Extracting data/MNIST/train-labels-idx1-ubyte.gz\n",
            "Extracting data/MNIST/t10k-images-idx3-ubyte.gz\n",
            "Extracting data/MNIST/t10k-labels-idx1-ubyte.gz\n"
          ],
          "name": "stdout"
        }
      ]
    },
    {
      "metadata": {
        "id": "EuMYexALUBKo",
        "colab_type": "code",
        "outputId": "c092f7cc-5d27-4bee-a78c-6d42fadda254",
        "colab": {
          "base_uri": "https://localhost:8080/",
          "height": 182
        }
      },
      "cell_type": "code",
      "source": [
        "print(\"Size of Training set : \",len(data.train.labels))\n",
        "\n",
        "print(\"Size of Testing set : \",len(data.test.labels))\n",
        "\n",
        "print(\"Size of Validation set : \",len(data.validation.labels))\n",
        "\n",
        "\n",
        "print(\"First 5 testing samples in one hot encoded format : \")\n",
        "data.test.labels[0:5,:]\n"
      ],
      "execution_count": 155,
      "outputs": [
        {
          "output_type": "stream",
          "text": [
            "Size of Training set :  55000\n",
            "Size of Testing set :  10000\n",
            "Size of Validation set :  5000\n",
            "First 5 testing samples in one hot encoded format : \n"
          ],
          "name": "stdout"
        },
        {
          "output_type": "execute_result",
          "data": {
            "text/plain": [
              "array([[0., 0., 0., 0., 0., 0., 0., 1., 0., 0.],\n",
              "       [0., 0., 1., 0., 0., 0., 0., 0., 0., 0.],\n",
              "       [0., 1., 0., 0., 0., 0., 0., 0., 0., 0.],\n",
              "       [1., 0., 0., 0., 0., 0., 0., 0., 0., 0.],\n",
              "       [0., 0., 0., 0., 1., 0., 0., 0., 0., 0.]])"
            ]
          },
          "metadata": {
            "tags": []
          },
          "execution_count": 155
        }
      ]
    },
    {
      "metadata": {
        "id": "3-OhZATPUK4v",
        "colab_type": "code",
        "outputId": "e78e0ae0-cb46-4b9f-9d6e-95b5f56f75ba",
        "colab": {
          "base_uri": "https://localhost:8080/",
          "height": 127
        }
      },
      "cell_type": "code",
      "source": [
        "data.test.cls = np.array([label.argmax() for label in data.test.labels])\n",
        "\n",
        "print(\"One Hot Encoding to Argmax : \")\n",
        "\n",
        "print(data.test.labels[0:5])\n",
        "\n",
        "img_size = 28\n",
        "\n",
        "img_shape = (28,28)\n",
        "\n",
        "\n",
        "img_size_flat = img_size * img_size #mnist dataset's pictures contain 28x28 image samples\n",
        "\n",
        "num_classes = 10\n",
        "\n"
      ],
      "execution_count": 156,
      "outputs": [
        {
          "output_type": "stream",
          "text": [
            "One Hot Encoding to Argmax : \n",
            "[[0. 0. 0. 0. 0. 0. 0. 1. 0. 0.]\n",
            " [0. 0. 1. 0. 0. 0. 0. 0. 0. 0.]\n",
            " [0. 1. 0. 0. 0. 0. 0. 0. 0. 0.]\n",
            " [1. 0. 0. 0. 0. 0. 0. 0. 0. 0.]\n",
            " [0. 0. 0. 0. 1. 0. 0. 0. 0. 0.]]\n"
          ],
          "name": "stdout"
        }
      ]
    },
    {
      "metadata": {
        "id": "UdXv7dCCxEVg",
        "colab_type": "text"
      },
      "cell_type": "markdown",
      "source": [
        "**PLACEHOLDER variables**"
      ]
    },
    {
      "metadata": {
        "id": "KN2DV4ReD0Ks",
        "colab_type": "code",
        "colab": {}
      },
      "cell_type": "code",
      "source": [
        "X = tf.placeholder(tf.float32, [None, img_size_flat])\n",
        "\n",
        "y_true = tf.placeholder(tf.float32, [None, num_classes])\n",
        "\n",
        "y_true_cls = tf.placeholder(tf.int64, [None]) #onehot to argmax"
      ],
      "execution_count": 0,
      "outputs": []
    },
    {
      "metadata": {
        "id": "ARFits9pN9i-",
        "colab_type": "text"
      },
      "cell_type": "markdown",
      "source": [
        "**Variables to be optimized**"
      ]
    },
    {
      "metadata": {
        "id": "0IGuh1H-wMu7",
        "colab_type": "code",
        "colab": {}
      },
      "cell_type": "code",
      "source": [
        "weights = tf.Variable(tf.zeros([img_size_flat, num_classes]))\n",
        "\n",
        "biases = tf.Variable(tf.zeros([num_classes]))"
      ],
      "execution_count": 0,
      "outputs": []
    },
    {
      "metadata": {
        "id": "g8CvxrrwjO39",
        "colab_type": "text"
      },
      "cell_type": "markdown",
      "source": [
        "***MODEL***"
      ]
    },
    {
      "metadata": {
        "id": "_0dl2IEJilGA",
        "colab_type": "code",
        "colab": {}
      },
      "cell_type": "code",
      "source": [
        "logits = tf.matmul(X, weights) +  biases\n",
        "\n",
        "y_pred = tf.nn.softmax(logits)\n",
        "\n",
        "y_pred_cls = tf.argmax(y_pred, dimension = 1)"
      ],
      "execution_count": 0,
      "outputs": []
    },
    {
      "metadata": {
        "id": "TbxhM9W3lGeS",
        "colab_type": "text"
      },
      "cell_type": "markdown",
      "source": [
        "**Cost Function**"
      ]
    },
    {
      "metadata": {
        "id": "LCa7dT1Jk_Z8",
        "colab_type": "code",
        "colab": {}
      },
      "cell_type": "code",
      "source": [
        "cross_entropy = tf.nn.softmax_cross_entropy_with_logits(logits = logits, labels = y_true) #using logits because it computes softmax internally\n",
        "\n",
        "cost = tf.reduce_mean(cross_entropy) # taking average of cross_entropy for all the image classifications"
      ],
      "execution_count": 0,
      "outputs": []
    },
    {
      "metadata": {
        "id": "dk2N8IHVnHBO",
        "colab_type": "text"
      },
      "cell_type": "markdown",
      "source": [
        "**Optimizer**"
      ]
    },
    {
      "metadata": {
        "id": "7JyWzXGAljYS",
        "colab_type": "code",
        "colab": {}
      },
      "cell_type": "code",
      "source": [
        "optimizer = tf.train.GradientDescentOptimizer(learning_rate = 0.01).minimize(cost)"
      ],
      "execution_count": 0,
      "outputs": []
    },
    {
      "metadata": {
        "id": "bYlsDpbBnmQd",
        "colab_type": "text"
      },
      "cell_type": "markdown",
      "source": [
        "**Performance Measurement**"
      ]
    },
    {
      "metadata": {
        "id": "y9ATCkv0ngNw",
        "colab_type": "code",
        "colab": {}
      },
      "cell_type": "code",
      "source": [
        "correct_prediction = tf.equal(y_pred_cls,y_true_cls) #calculating the average of 0 and 1 class\n",
        "\n",
        "accuracy = tf.reduce_mean(tf.cast(correct_prediction, tf.float32)) #number of correct classified images / total number of images"
      ],
      "execution_count": 0,
      "outputs": []
    },
    {
      "metadata": {
        "id": "Zam7EIUKpGub",
        "colab_type": "text"
      },
      "cell_type": "markdown",
      "source": [
        "**Creating Tensorflow Session**"
      ]
    },
    {
      "metadata": {
        "id": "M-YiMeBRoVdy",
        "colab_type": "code",
        "colab": {}
      },
      "cell_type": "code",
      "source": [
        "session = tf.Session()\n",
        "\n",
        "session.run(tf.initialize_all_variables()) # initializes all the variables"
      ],
      "execution_count": 0,
      "outputs": []
    },
    {
      "metadata": {
        "id": "5Cp8170Dp5O5",
        "colab_type": "text"
      },
      "cell_type": "markdown",
      "source": [
        "**Using Stochastic Gradient Descent for Computing the gradients**"
      ]
    },
    {
      "metadata": {
        "id": "WilJm_AYpdSz",
        "colab_type": "code",
        "colab": {}
      },
      "cell_type": "code",
      "source": [
        "batch_size = 100 #after each iteration of the optimizer we just calculate for  100 gradient for the training set images"
      ],
      "execution_count": 0,
      "outputs": []
    },
    {
      "metadata": {
        "id": "9pz4XsnxqnUz",
        "colab_type": "code",
        "colab": {}
      },
      "cell_type": "code",
      "source": [
        "def optimize(num_iterations):\n",
        "  for i in range(num_iterations):\n",
        "  \n",
        "      X_batch, y_true_batch = data.train.next_batch(batch_size) #finding next batches\n",
        "    \n",
        "      feed_dict_train = {X : X_batch, y_true : y_true_batch} # x_batch stores 100 batch images and y_true_batch = corresponding labels\n",
        "      \n",
        "      \n",
        "      session.run(optimizer, feed_dict = feed_dict_train)\n",
        "      \n",
        "      ##tensorflow assigns variables to the feed_dict_train to the placeholder variables and then runs the optimizer.\n",
        "      \n",
        "      "
      ],
      "execution_count": 0,
      "outputs": []
    },
    {
      "metadata": {
        "id": "W0z12U-jbESw",
        "colab_type": "text"
      },
      "cell_type": "markdown",
      "source": [
        "**Showing performance using helper function**"
      ]
    },
    {
      "metadata": {
        "id": "0auPJlMIP_nJ",
        "colab_type": "code",
        "colab": {}
      },
      "cell_type": "code",
      "source": [
        "feed_dict_test = {X : data.test.images,\n",
        "                y_true : data.test.labels,\n",
        "                y_true_cls : data.test.cls}\n",
        "\n",
        "\n",
        "#function for printing classification accuracy on the test set\n",
        "\n",
        "def print_accuracy():\n",
        "  acc = session.run(accuracy, feed_dict = feed_dict_test)\n",
        "  \n",
        "  print('accuracy on the test set : {0:.1%}'.format(acc))"
      ],
      "execution_count": 0,
      "outputs": []
    },
    {
      "metadata": {
        "id": "wMhj8ISUMKDf",
        "colab_type": "text"
      },
      "cell_type": "markdown",
      "source": [
        "**Confusion Matrix**"
      ]
    },
    {
      "metadata": {
        "id": "25WvgVD9c6VF",
        "colab_type": "code",
        "colab": {}
      },
      "cell_type": "code",
      "source": [
        "def print_confusion_matrix():\n",
        "  cls_true = data.test.cls #true classifications for the test set\n",
        "  cls_pred = session.run(y_pred_cls, feed_dict = feed_dict_test) #predicted classifications for the test set\n",
        "  cm = confusion_matrix(y_true = cls_true,\n",
        "                       y_pred = cls_pred)\n",
        "  \n",
        "  print(cm)\n",
        "  \n",
        "  #plotting the confusion matrix as image\n",
        "  \n",
        "  plt.imshow(cm, interpolation= 'nearest', cmap = plt.cm.Blues)\n",
        "  \n",
        "  plt.tight_layout()\n",
        "  \n",
        "  plt.colorbar()\n",
        "  \n",
        "  tick_marks = np.arange(num_classes)\n",
        "  \n",
        "  plt.xticks(tick_marks, range(num_classes))\n",
        "  \n",
        "  plt.yticks(tick_marks, range(num_classes))\n",
        "  \n",
        "  plt.xlabel('predicted')\n",
        "  \n",
        "  plt.ylabel('True')\n",
        "    \n",
        "    # Ensure the plot is shown correctly with multiple plots\n",
        "    # in a single Notebook cell.\n",
        "  plt.show()"
      ],
      "execution_count": 0,
      "outputs": []
    },
    {
      "metadata": {
        "id": "MkdggMkjQyFJ",
        "colab_type": "text"
      },
      "cell_type": "markdown",
      "source": [
        "**Plotting the model weights**"
      ]
    },
    {
      "metadata": {
        "id": "H2B6ZpuAQmFW",
        "colab_type": "code",
        "colab": {}
      },
      "cell_type": "code",
      "source": [
        "def plot_weights():\n",
        "    # Get the values for the weights from the TensorFlow variable.\n",
        "    w = session.run(weights)\n",
        "    \n",
        "    # Get the lowest and highest values for the weights.\n",
        "    # This is used to correct the colour intensity across\n",
        "    # the images so they can be compared with each other.\n",
        "    w_min = np.min(w)\n",
        "    w_max = np.max(w)\n",
        "\n",
        "    # Create figure with 3x4 sub-plots,\n",
        "    # where the last 2 sub-plots are unused.\n",
        "    fig, axes = plt.subplots(3, 4)\n",
        "    fig.subplots_adjust(hspace=0.3, wspace=0.3)\n",
        "\n",
        "    for i, ax in enumerate(axes.flat):\n",
        "        # Only use the weights for the first 10 sub-plots.\n",
        "        if i<10:\n",
        "            # Get the weights for the i'th digit and reshape it.\n",
        "            # Note that w.shape == (img_size_flat, 10)\n",
        "            image = w[:, i].reshape(img_shape)\n",
        "\n",
        "            # Set the label for the sub-plot.\n",
        "            ax.set_xlabel(\"Weights: {0}\".format(i))\n",
        "\n",
        "            # Plot the image.\n",
        "            ax.imshow(image, vmin=w_min, vmax=w_max, cmap='seismic')\n",
        "\n",
        "        # Remove ticks from each sub-plot.\n",
        "        ax.set_xticks([])\n",
        "        ax.set_yticks([])\n",
        "        \n",
        "    # Ensure the plot is shown correctly with multiple plots\n",
        "    # in a single Notebook cell.\n",
        "    plt.show()"
      ],
      "execution_count": 0,
      "outputs": []
    },
    {
      "metadata": {
        "id": "NrpjjV4EQ-W0",
        "colab_type": "text"
      },
      "cell_type": "markdown",
      "source": [
        "**Performance After 1000 optimization iteration**"
      ]
    },
    {
      "metadata": {
        "id": "3TLzBGcmQ9J_",
        "colab_type": "code",
        "colab": {
          "base_uri": "https://localhost:8080/",
          "height": 35
        },
        "outputId": "6f0c9928-786b-475f-ad9b-b731f08942c6"
      },
      "cell_type": "code",
      "source": [
        "# We have already performed 1 iteration.\n",
        "optimize(num_iterations=10000)\n",
        "\n",
        "print_accuracy()"
      ],
      "execution_count": 169,
      "outputs": [
        {
          "output_type": "stream",
          "text": [
            "accuracy on the test set : 91.0%\n"
          ],
          "name": "stdout"
        }
      ]
    },
    {
      "metadata": {
        "id": "E2XEsC3FSHbB",
        "colab_type": "text"
      },
      "cell_type": "markdown",
      "source": [
        "**Plotting weights**"
      ]
    },
    {
      "metadata": {
        "id": "jDkW6dgERMTL",
        "colab_type": "code",
        "colab": {
          "base_uri": "https://localhost:8080/",
          "height": 740
        },
        "outputId": "7f18db04-24d7-4476-d9ef-b71bb51506d0"
      },
      "cell_type": "code",
      "source": [
        "plot_weights()\n",
        "\n",
        "print_confusion_matrix()"
      ],
      "execution_count": 170,
      "outputs": [
        {
          "output_type": "display_data",
          "data": {
            "image/png": "[encoded data removed]",
            "text/plain": [
              "<Figure size 432x288 with 12 Axes>"
            ]
          },
          "metadata": {
            "tags": []
          }
        },
        {
          "output_type": "stream",
          "text": [
            "[[ 958    0    3    2    0    4    9    1    3    0]\n",
            " [   0 1102    2    4    1    2    4    1   19    0]\n",
            " [  11    8  898   15   15    1   16   18   41    9]\n",
            " [   5    1   19  907    1   27    4   13   22   11]\n",
            " [   1    4    6    1  911    1   10    1    8   39]\n",
            " [  12    4    5   42   12  747   16   10   35    9]\n",
            " [  15    3    5    2   13   15  902    1    2    0]\n",
            " [   3   19   24    6   10    0    0  925    3   38]\n",
            " [   9    9    8   26    8   21   12   13  855   13]\n",
            " [  11    8    5   11   40   12    0   18    6  898]]\n"
          ],
          "name": "stdout"
        },
        {
          "output_type": "display_data",
          "data": {
            "image/png": "[encoded data removed]",
            "text/plain": [
              "<Figure size 432x288 with 2 Axes>"
            ]
          },
          "metadata": {
            "tags": []
          }
        }
      ]
    },
    {
      "metadata": {
        "id": "NkoqDBR4SJ5p",
        "colab_type": "code",
        "colab": {
          "base_uri": "https://localhost:8080/",
          "height": 495
        },
        "outputId": "653c1369-fefa-402c-dc02-5729792a432f"
      },
      "cell_type": "code",
      "source": [
        "print_confusion_matrix()"
      ],
      "execution_count": 171,
      "outputs": [
        {
          "output_type": "stream",
          "text": [
            "[[ 958    0    3    2    0    4    9    1    3    0]\n",
            " [   0 1102    2    4    1    2    4    1   19    0]\n",
            " [  11    8  898   15   15    1   16   18   41    9]\n",
            " [   5    1   19  907    1   27    4   13   22   11]\n",
            " [   1    4    6    1  911    1   10    1    8   39]\n",
            " [  12    4    5   42   12  747   16   10   35    9]\n",
            " [  15    3    5    2   13   15  902    1    2    0]\n",
            " [   3   19   24    6   10    0    0  925    3   38]\n",
            " [   9    9    8   26    8   21   12   13  855   13]\n",
            " [  11    8    5   11   40   12    0   18    6  898]]\n"
          ],
          "name": "stdout"
        },
        {
          "output_type": "display_data",
          "data": {
            "image/png": "[encoded data removed]",
            "text/plain": [
              "<Figure size 432x288 with 2 Axes>"
            ]
          },
          "metadata": {
            "tags": []
          }
        }
      ]
    }
  ]
}